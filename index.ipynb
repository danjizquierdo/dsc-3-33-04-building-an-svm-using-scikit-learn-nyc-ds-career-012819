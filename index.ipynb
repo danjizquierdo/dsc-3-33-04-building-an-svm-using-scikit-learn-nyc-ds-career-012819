{
 "cells": [
  {
   "cell_type": "markdown",
   "metadata": {},
   "source": [
    "# Building an SVM Using scikit-learn - Lab"
   ]
  },
  {
   "cell_type": "markdown",
   "metadata": {},
   "source": [
    "## Introduction"
   ]
  },
  {
   "cell_type": "markdown",
   "metadata": {},
   "source": [
    "In the previous lab, you learned how to build an SVM from scratch. Next, you'll learn how to use scikit-learn to create SVMs!"
   ]
  },
  {
   "cell_type": "markdown",
   "metadata": {},
   "source": [
    "## Objectives"
   ]
  },
  {
   "cell_type": "markdown",
   "metadata": {},
   "source": [
    "You will be able to:\n",
    "- Use scikit-learn to build a linear SVM when there are 2 groups\n",
    "- Use scikit-learn to build a linear SVM when there are more than 2 groups"
   ]
  },
  {
   "cell_type": "markdown",
   "metadata": {},
   "source": [
    "## Generate four data sets in scikit-learn"
   ]
  },
  {
   "cell_type": "markdown",
   "metadata": {},
   "source": [
    "Let's use the scikit-learn dataset generator again. \n",
    "- The first data set contains the same blobs as for the first SVM in the last lab\n",
    "- The second data set contains the same blobs as for the second SVM (Soft Margin Classifier) in the last lab\n",
    "- The third data set contains four separate blobs\n",
    "- The fourth data set contains slightly different data with two classes, yet this time the classes are not blobs but in the shape of half moons (generated using `make_moons`)."
   ]
  },
  {
   "cell_type": "code",
   "execution_count": null,
   "metadata": {},
   "outputs": [],
   "source": [
    "from sklearn.datasets import make_blobs\n",
    "from sklearn.datasets import make_moons\n",
    "import matplotlib.pyplot as plt\n",
    "%matplotlib inline  \n",
    "import numpy as np\n",
    "\n",
    "plt.figure(figsize=(10, 10))\n",
    "\n",
    "plt.subplot(221)\n",
    "plt.title(\"Two blobs\")\n",
    "X_1, y_1 = make_blobs(n_features = 2, centers = 2, cluster_std=1.25, random_state = 123)\n",
    "plt.scatter(X_1[:, 0], X_1[:, 1], c = y_1, s=25)\n",
    "\n",
    "plt.subplot(222)\n",
    "plt.title(\"Two blobs with more noise\")\n",
    "X_2, y_2 = make_blobs(n_samples=100, n_features=2, centers=2, cluster_std=3,  random_state = 123)\n",
    "plt.scatter(X_2[:, 0], X_2[:, 1], c = y_2, s=25)\n",
    "\n",
    "plt.subplot(223)\n",
    "plt.title(\"Four blobs\")\n",
    "X_3, y_3 = make_blobs(n_samples=100, n_features=2, centers=4, cluster_std=1.6,  random_state = 123)\n",
    "plt.scatter(X_3[:, 0], X_3[:, 1], c = y_3, s=25)\n",
    "\n",
    "plt.subplot(224)\n",
    "plt.title(\"Two interleaving half circles\")\n",
    "X_4, y_4 = make_moons(n_samples=100, shuffle = False , noise = 0.3, random_state=123)\n",
    "plt.scatter(X_4[:, 0], X_4[:, 1], c = y_4, s=25)\n",
    "\n",
    "plt.show()"
   ]
  },
  {
   "cell_type": "markdown",
   "metadata": {},
   "source": [
    "## A model for a perfectly linearly separable data set"
   ]
  },
  {
   "cell_type": "markdown",
   "metadata": {},
   "source": [
    "Let's have a look at our first plot again. "
   ]
  },
  {
   "cell_type": "code",
   "execution_count": null,
   "metadata": {},
   "outputs": [],
   "source": [
    "X_1, y_1 = make_blobs(n_features = 2, centers = 2, cluster_std=1.25, random_state = 123)\n",
    "plt.scatter(X_1[:, 0], X_1[:, 1], c = y_1, s=25);"
   ]
  },
  {
   "cell_type": "markdown",
   "metadata": {},
   "source": [
    "We'll start with this data set and fit a simple linear support vector machine on these data. You can use the scikit-learn library `svm` to do so.\n",
    "- import svm from scikit-learn\n",
    "- save the SVC-method (which stands for Support Vector Classification) with `kernel='linear'` as the only argument.\n",
    "- call the `.fit()` method with the data as the first argument and the labels as the second. \n"
   ]
  },
  {
   "cell_type": "code",
   "execution_count": null,
   "metadata": {},
   "outputs": [],
   "source": [
    "from sklearn import svm"
   ]
  },
  {
   "cell_type": "code",
   "execution_count": null,
   "metadata": {},
   "outputs": [],
   "source": [
    "svc =svm.SVC(kernel='linear')\n",
    "svc.fit(X_1,y_1)"
   ]
  },
  {
   "cell_type": "markdown",
   "metadata": {},
   "source": [
    "Let's save the first feature (on the horizontal axis) as X_11 and the second feature (on the vertical axis) as X_12."
   ]
  },
  {
   "cell_type": "code",
   "execution_count": null,
   "metadata": {},
   "outputs": [],
   "source": [
    "svc.coef_"
   ]
  },
  {
   "cell_type": "code",
   "execution_count": null,
   "metadata": {},
   "outputs": [],
   "source": [
    "X_11,X_12 = X_1[:,0],X_1[:,1]"
   ]
  },
  {
   "cell_type": "code",
   "execution_count": null,
   "metadata": {},
   "outputs": [],
   "source": [
    "# Your code here"
   ]
  },
  {
   "cell_type": "markdown",
   "metadata": {},
   "source": [
    "Next, let's store the min and maximum values X_11 and X_12 operate in. We'll use these minimum and maximum values to create our plots later. Add some slack (equal to 1) to the minimum and maximum boundaries."
   ]
  },
  {
   "cell_type": "code",
   "execution_count": null,
   "metadata": {},
   "outputs": [],
   "source": [
    "min_1,max_1 = np.min(X_11)-1,np.max(X_11)+1\n",
    "min_2,max_2 = np.min(X_12)-1,np.max(X_12)+1"
   ]
  },
  {
   "cell_type": "markdown",
   "metadata": {},
   "source": [
    "Next, we'll create a grid. You can do this by using the numpy function `linspace`, which creates a numpy array with evenly spaced numbers over a specified interval. The default of numbers is 50 and we don't need that many, so let's specify `num = 10` for now. You'll see that you need to take a higher number once we get to classification of more than 2 groups."
   ]
  },
  {
   "cell_type": "code",
   "execution_count": null,
   "metadata": {},
   "outputs": [],
   "source": [
    "ax1=np.linspace(min_1,max_1,10)\n",
    "ax2=np.linspace(min_2,max_2,10)"
   ]
  },
  {
   "cell_type": "markdown",
   "metadata": {},
   "source": [
    "To create our decision boundary, you'll need to create a mesh of points to plot in. You can do this by using `np.meshgrid` with the two arguments equal to the `np.linspace` objects created for X11 and X12."
   ]
  },
  {
   "cell_type": "code",
   "execution_count": null,
   "metadata": {},
   "outputs": [],
   "source": [
    "x11c,x12c=np.meshgrid(ax1,ax2)"
   ]
  },
  {
   "cell_type": "markdown",
   "metadata": {},
   "source": [
    "Now we want to create a numpy array of the shape (100, 2) that concatenates the coordinates for X11 and X12 together in one numpy object. Use `np.c_` and make sure to use `.ravel()` first. Use `np.shape()` on your resulting object first to verify the resulting shape."
   ]
  },
  {
   "cell_type": "code",
   "execution_count": null,
   "metadata": {},
   "outputs": [],
   "source": [
    "combined = np.c_[x11c.ravel(),x12c.ravel()]"
   ]
  },
  {
   "cell_type": "code",
   "execution_count": null,
   "metadata": {},
   "outputs": [],
   "source": [
    "combined.shape"
   ]
  },
  {
   "cell_type": "code",
   "execution_count": null,
   "metadata": {
    "scrolled": true
   },
   "outputs": [],
   "source": [
    "# Your code here"
   ]
  },
  {
   "cell_type": "markdown",
   "metadata": {},
   "source": [
    "Bow we want to get a decision boundary for this particular data set. Using your (100,2) numpy array and calling `clf.decision_function()` on it, the decision function returns the distance to the samples that you generated using meshgrid. Make sure you change your shape in a way that you get a (10,10) numpy array."
   ]
  },
  {
   "cell_type": "code",
   "execution_count": null,
   "metadata": {},
   "outputs": [],
   "source": [
    "svc.decision_function(combined).shape = (10,10)"
   ]
  },
  {
   "cell_type": "code",
   "execution_count": null,
   "metadata": {},
   "outputs": [],
   "source": [
    "svc.decision_function"
   ]
  },
  {
   "cell_type": "markdown",
   "metadata": {},
   "source": [
    "Now, let's plot our data again with the result of svm in it. \n",
    "- The first line is simply creating the scatter plot like before\n",
    "- Next, you need to specify that what you will do next uses the same axes as the scatter plot. You can do this using `plot.gca()`. Store it in an object and for the remainder you'll use this object to create the lines in your plot\n",
    "- Use `.countour()`. The first two argument are the coordinates created usiung the meshgrid, the third argument the result of your decision function call. \n",
    "- You'll want three lines: one decision boundary, and the 2 lines going through the support vectors. Incluse `levels = [-1,0,1]` to get all three."
   ]
  },
  {
   "cell_type": "code",
   "execution_count": null,
   "metadata": {},
   "outputs": [],
   "source": [
    "plt.scatter(X_11, X_12, c = y_1, s=25);\n",
    "m_plot = plt.gca()\n",
    "m_plot.contour(ax1,ax2,svc.decision_function(combined).reshape((10,10)),levels=[-1,0,1])"
   ]
  },
  {
   "cell_type": "code",
   "execution_count": null,
   "metadata": {
    "scrolled": true
   },
   "outputs": [],
   "source": [
    "# Your code here"
   ]
  },
  {
   "cell_type": "markdown",
   "metadata": {},
   "source": [
    "The coordinates of the support vectors can be found in the `support_vectors_`-attribute. Have a look:"
   ]
  },
  {
   "cell_type": "code",
   "execution_count": null,
   "metadata": {},
   "outputs": [],
   "source": [
    "sv1,sv2=svc.support_vectors_"
   ]
  },
  {
   "cell_type": "code",
   "execution_count": null,
   "metadata": {},
   "outputs": [],
   "source": [
    "# Your code here"
   ]
  },
  {
   "cell_type": "markdown",
   "metadata": {},
   "source": [
    "Now create your plot again but highlight your support vectors. "
   ]
  },
  {
   "cell_type": "code",
   "execution_count": null,
   "metadata": {},
   "outputs": [],
   "source": [
    "plt.scatter(X_11, X_12, c = y_1, s=25);\n",
    "m_plot = plt.gca()\n",
    "m_plot.contour(ax1,ax2,svc.decision_function(combined).reshape((10,10)),levels=[-1,0,1])\n",
    "m_plot.scatter(sv1,sv2,c='b');"
   ]
  },
  {
   "cell_type": "code",
   "execution_count": null,
   "metadata": {
    "scrolled": true
   },
   "outputs": [],
   "source": [
    "# Your code here"
   ]
  },
  {
   "cell_type": "markdown",
   "metadata": {},
   "source": [
    "## When the data is not linearly separable"
   ]
  },
  {
   "cell_type": "markdown",
   "metadata": {},
   "source": [
    "The previous example was pretty easy. The 2 \"clusters\" were easily separable by one straight line classifying every single instance correctly. But what if this isn't the case? Let's have a look at the second dataset we had generated."
   ]
  },
  {
   "cell_type": "code",
   "execution_count": null,
   "metadata": {},
   "outputs": [],
   "source": [
    "plt.figure(figsize=(10, 10))\n",
    "plt.subplot(222)\n",
    "X_2, y_2 = make_blobs(n_samples=100, n_features=2, centers=2, cluster_std=3,  random_state = 123)\n",
    "plt.scatter(X_2[:, 0], X_2[:, 1], c = y_2, s=25);"
   ]
  },
  {
   "cell_type": "code",
   "execution_count": null,
   "metadata": {},
   "outputs": [],
   "source": [
    "# Your code here"
   ]
  },
  {
   "cell_type": "markdown",
   "metadata": {},
   "source": [
    "Unlike what we've seen in the previous lab, we can just simply use the same SVC function to this problem, as this algorithm automatically allows for slack variables. Repeat the code from above here, and plot the result."
   ]
  },
  {
   "cell_type": "code",
   "execution_count": null,
   "metadata": {},
   "outputs": [],
   "source": [
    "svc =svm.SVC(kernel='linear')\n",
    "svc.fit(X_2,y_2)\n",
    "X_21,X_22 = X_2[:,0],X_2[:,1]\n",
    "min_21,max_21 = np.min(X_21)-1,np.max(X_21)+1\n",
    "min_22,max_22 = np.min(X_22)-1,np.max(X_22)+1\n",
    "ax21=np.linspace(min_21,max_21,10)\n",
    "ax22=np.linspace(min_22,max_22,10)\n",
    "x21c,x22c=np.meshgrid(ax21,ax22)\n",
    "combined = np.c_[x21c.ravel(),x22c.ravel()]\n",
    "plt.scatter(X_21, X_22, c = y_2, s=25);\n",
    "m_plot = plt.gca()\n",
    "m_plot.contour(ax21,ax22,svc.decision_function(combined).reshape((10,10)),levels=[-1,0,1]);"
   ]
  },
  {
   "cell_type": "code",
   "execution_count": null,
   "metadata": {
    "scrolled": true
   },
   "outputs": [],
   "source": [
    "# Your code here"
   ]
  },
  {
   "cell_type": "markdown",
   "metadata": {},
   "source": [
    "As you can see, 3 instances are misclassified (1 yellow, 2 purple). We probably can't do better in this situation, but it's worth to look at changing your hyperparameter C, which can be done in the .SCV command, adding a high value for the argument `C`. Set C = 5,000,000. "
   ]
  },
  {
   "cell_type": "code",
   "execution_count": null,
   "metadata": {},
   "outputs": [],
   "source": [
    "svc =svm.SVC(kernel='linear',C=5000000)\n",
    "svc.fit(X_2,y_2)\n",
    "X_21,X_22 = X_2[:,0],X_2[:,1]\n",
    "min_21,max_21 = np.min(X_21)-1,np.max(X_21)+1\n",
    "min_22,max_22 = np.min(X_22)-1,np.max(X_22)+1\n",
    "ax21=np.linspace(min_21,max_21,10)\n",
    "ax22=np.linspace(min_22,max_22,10)\n",
    "x21c,x22c=np.meshgrid(ax21,ax22)\n",
    "combined = np.c_[x21c.ravel(),x22c.ravel()]\n",
    "plt.scatter(X_21, X_22, c = y_2, s=25);\n",
    "m_plot = plt.gca()\n",
    "m_plot.contour(ax21,ax22,svc.decision_function(combined).reshape((10,10)),levels=[-1,0,1]);"
   ]
  },
  {
   "cell_type": "code",
   "execution_count": null,
   "metadata": {},
   "outputs": [],
   "source": [
    "# Your code here"
   ]
  },
  {
   "cell_type": "markdown",
   "metadata": {},
   "source": [
    "## Other options in Scikit Learn\n",
    "\n"
   ]
  },
  {
   "cell_type": "markdown",
   "metadata": {},
   "source": [
    "When you dig deeper in Scikit Learn, you'll notice that there are several ways to get to linear SVM's for classification:\n",
    "\n",
    "- `svm.SVC(kernel = \"linear\")` , which we've used so far. Documentation can be found [here](https://scikit-learn.org/stable/modules/generated/sklearn.svm.SVC.html#sklearn.svm.SVC). \n",
    "- `svm.LinearSVC()`, which is very similar to the simple SVC method, but:\n",
    "    - which does not allow for the keyword \"kernel\", as it is assumed to be linear (more on non-linear kernels later)\n",
    "    - In the objective function, `LinearSVC` minimizes the squared hinge loss while `SVC` minimizes the regular hinge loss.\n",
    "    - `LinearSVC` uses the One-vs-All (also known as One-vs-Rest) multiclass reduction while `SVC` uses the One-vs-One multiclass reduction (this is important only when having >2 classes!)\n",
    "- `svm.NuSVC()`, which is again very similar,\n",
    "    - Does have a \"kernel\" argument\n",
    "    - `SVC` and `NuSVC` are essentially the same thing, except that for `nuSVC`, C is reparametrized into nu. The advantage of this is that where C has no bounds and can be any positive number, nu always lies between 0 and 1. \n",
    "    - One-vs-one multiclass approach.\n",
    "    \n",
    "    \n",
    "So what does One-vs-one mean? what does One-vs-all mean?\n",
    "- One-vs-one means that with $n$ classes, $\\dfrac{(n)*(n-1)}{2}$ boundaries are constructed! \n",
    "- One-vs-all means that when there are $n$ classes, $n$ boundaries are created.\n",
    "\n",
    "The difference between these three types of classifiers is mostly small, but generally visible for data sets with 3+ classes. Let's have a look at our third example and see how the results differ!"
   ]
  },
  {
   "cell_type": "markdown",
   "metadata": {},
   "source": [
    "## Classifying four classes"
   ]
  },
  {
   "cell_type": "code",
   "execution_count": null,
   "metadata": {},
   "outputs": [],
   "source": [
    "plt.figure(figsize=(7, 6))\n",
    "\n",
    "plt.title(\"Four blobs\")\n",
    "X, y = make_blobs(n_samples=100, n_features=2, centers=4, cluster_std=1.6,  random_state = 123)\n",
    "plt.scatter(X[:, 0], X[:, 1], c = y, s=25);"
   ]
  },
  {
   "cell_type": "markdown",
   "metadata": {},
   "source": [
    "Try four different models and plot the results using subplots where:\n",
    "    - The first one is a regular SVC (C=1)\n",
    "    - The second one is a regular SVC with C=0.1\n",
    "    - The third one is a NuSVC with nu= 0.7\n",
    "    - The fourth one is a LinearSVC (no arguments)\n",
    "    \n",
    "Make sure all these plots have highlighted support vectors, except for LinearCSV (this algorithm doesn't have the attribute `.support_vectors_`. Here, instead of contour() use contourf() to get filled contour plots."
   ]
  },
  {
   "cell_type": "code",
   "execution_count": null,
   "metadata": {},
   "outputs": [],
   "source": [
    "combined.shape"
   ]
  },
  {
   "cell_type": "code",
   "execution_count": null,
   "metadata": {},
   "outputs": [],
   "source": [
    "svc.decision_function(combined).shape"
   ]
  },
  {
   "cell_type": "code",
   "execution_count": null,
   "metadata": {},
   "outputs": [],
   "source": [
    "svc =svm.SVC(kernel='linear',C=1)\n",
    "svc.fit(X,y)\n",
    "X_1,X_2 = X[:,0],X[:,1]\n",
    "min_1,max_1 = np.min(X_1)-1,np.max(X_1)+1\n",
    "min_2,max_2 = np.min(X_2)-1,np.max(X_2)+1\n",
    "ax1=np.linspace(min_1,max_1,10)\n",
    "ax2=np.linspace(min_2,max_2,10)\n",
    "x1c,x2c=np.meshgrid(ax1,ax2)\n",
    "combined = np.c_[x1c.ravel(),x2c.ravel()]\n",
    "plt.scatter(X_1, X_2, c = y, s=25);\n",
    "m_plot = plt.gca()\n",
    "m_plot.contour(x1c,x2c,svc.decision_function(combined).reshape((10,10)),levels=[-1,0,1]);"
   ]
  },
  {
   "cell_type": "code",
   "execution_count": null,
   "metadata": {},
   "outputs": [],
   "source": [
    "svc =svm.SVC(kernel='linear',C=5000000)\n",
    "svc.fit(X_2,y_2)\n",
    "X_21,X_22 = X_2[:,0],X_2[:,1]\n",
    "min_21,max_21 = np.min(X_21)-1,np.max(X_21)+1\n",
    "min_22,max_22 = np.min(X_22)-1,np.max(X_22)+1\n",
    "ax21=np.linspace(min_21,max_21,10)\n",
    "ax22=np.linspace(min_22,max_22,10)\n",
    "x21c,x22c=np.meshgrid(ax21,ax22)\n",
    "combined = np.c_[x21c.ravel(),x22c.ravel()]\n",
    "plt.scatter(X_21, X_22, c = y_2, s=25);\n",
    "m_plot = plt.gca()\n",
    "m_plot.contour(ax21,ax22,svc.decision_function(combined).reshape((10,10)),levels=[-1,0,1]);"
   ]
  },
  {
   "cell_type": "code",
   "execution_count": null,
   "metadata": {},
   "outputs": [],
   "source": []
  },
  {
   "cell_type": "code",
   "execution_count": null,
   "metadata": {},
   "outputs": [],
   "source": [
    "# Your code here"
   ]
  },
  {
   "cell_type": "markdown",
   "metadata": {},
   "source": [
    "Now, let's have a look at the coefficients of the decision boundaries. Remember that a simple `SVC` uses a one-vs-one method. this means that for 4 classes, $\\dfrac{(4 * 3)}{2}= 6$ decision boundaries are created. The coefficients can be accessed in the attribute `.coef_`. Compare with the coefficients for the LinearSVC. What do you notice?"
   ]
  },
  {
   "cell_type": "code",
   "execution_count": null,
   "metadata": {},
   "outputs": [],
   "source": [
    "# Your code here"
   ]
  },
  {
   "cell_type": "markdown",
   "metadata": {},
   "source": [
    "## To non-linear boundaries"
   ]
  },
  {
   "cell_type": "code",
   "execution_count": null,
   "metadata": {},
   "outputs": [],
   "source": [
    "plt.title(\"Two interleaving half circles\")\n",
    "X_4, y_4 = make_moons(n_samples=100, shuffle = False , noise = 0.3, random_state=123)\n",
    "plt.scatter(X_4[:, 0], X_4[:, 1], c = y_4, s=25)\n",
    "\n",
    "plt.show()"
   ]
  },
  {
   "cell_type": "markdown",
   "metadata": {},
   "source": [
    "Let's look at our fourth plot. We can try and draw a line here,  but it's pretty apparent that a linear boundary is not appropriate here. In the next section you'll learn about SVMs with non-linear boundaries!"
   ]
  },
  {
   "cell_type": "markdown",
   "metadata": {},
   "source": [
    "## Additional reading"
   ]
  },
  {
   "cell_type": "markdown",
   "metadata": {},
   "source": [
    "It is highly recommended to read up on SVMs in the scikit-learn documentation!\n",
    "- https://scikit-learn.org/stable/modules/svm.html\n",
    "- https://scikit-learn.org/stable/modules/generated/sklearn.svm.SVC.html\n",
    "- https://scikit-learn.org/stable/modules/generated/sklearn.svm.LinearSVC.html\n",
    "- https://scikit-learn.org/stable/modules/generated/sklearn.svm.NuSVC.html"
   ]
  },
  {
   "cell_type": "markdown",
   "metadata": {},
   "source": [
    "## Summary"
   ]
  },
  {
   "cell_type": "markdown",
   "metadata": {},
   "source": [
    "You now know how to use scikit-learn to build linear support vector machines. In the next lesson, you'll learn how SVMs can be extended to have non-linear boundaries."
   ]
  }
 ],
 "metadata": {
  "kernelspec": {
   "display_name": "Python 3",
   "language": "python",
   "name": "python3"
  },
  "language_info": {
   "codemirror_mode": {
    "name": "ipython",
    "version": 3
   },
   "file_extension": ".py",
   "mimetype": "text/x-python",
   "name": "python",
   "nbconvert_exporter": "python",
   "pygments_lexer": "ipython3",
   "version": "3.6.6"
  }
 },
 "nbformat": 4,
 "nbformat_minor": 2
}
